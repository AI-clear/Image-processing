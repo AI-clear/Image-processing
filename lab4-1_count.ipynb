{
 "cells": [
  {
   "cell_type": "markdown",
   "metadata": {},
   "source": [
    "# 교수님이 제시한 count 의사코드"
   ]
  },
  {
   "cell_type": "markdown",
   "metadata": {},
   "source": [
    "```python\n",
    "H, W = image.shape[:2]\n",
    "counted = np.zeros_like(image)\n",
    "cnt = 0\n",
    "for h in range(H):\n",
    "    for w in range(W):\n",
    "        pixel = image[h,w]\n",
    "        if pixel is not background but object:\n",
    "            if the pixel is alread counted (counted[h,w] > 0):\n",
    "                continue\n",
    "            else:\n",
    "                Generate a stack and insert the pixel idx [h,w] into the stack\n",
    "                while the stack is not empty:\n",
    "                    Pop one pixel idx up from the stack\n",
    "                    Count this pixel with cnt and update counted matrix\n",
    "                    Generate the neighbor list with 8 surrounding pixels\n",
    "                    for pixel in the neighbor list:\n",
    "                            if pixel is out of bound:\n",
    "                                continue\n",
    "                            elif pixel is already counted:\n",
    "                                continue\n",
    "                            elif pixel is background\n",
    "                                continue\n",
    "                            else:\n",
    "                                Insert this pixel to the stack for counting\n",
    "                Increase cnt by 1\n",
    "print(cnt)        \n",
    "print(counted)\n",
    "```"
   ]
  },
  {
   "cell_type": "markdown",
   "metadata": {},
   "source": [
    "# 내가 작성한 코드"
   ]
  },
  {
   "cell_type": "markdown",
   "metadata": {},
   "source": [
    "# 테스트 이미지 생성"
   ]
  },
  {
   "cell_type": "code",
   "execution_count": 20,
   "metadata": {},
   "outputs": [
    {
     "data": {
      "text/plain": [
       "array([[  0,   0,   0,   0,   0],\n",
       "       [  0, 255,   0,   0,   0],\n",
       "       [  0, 255,   0,   0, 255],\n",
       "       [  0, 255,   0,   0,   0],\n",
       "       [  0,   0,   0,   0,   0]], dtype=uint8)"
      ]
     },
     "execution_count": 20,
     "metadata": {},
     "output_type": "execute_result"
    }
   ],
   "source": [
    "import cv2\n",
    "import matplotlib.pyplot as plt\n",
    "import numpy as np\n",
    "\n",
    "test_img = np.zeros((5,5), dtype = np.uint8)\n",
    "test_img[1:4,1]=255\n",
    "test_img[2,4]=255\n",
    "test_img"
   ]
  },
  {
   "cell_type": "markdown",
   "metadata": {},
   "source": [
    "# initialization"
   ]
  },
  {
   "cell_type": "code",
   "execution_count": 21,
   "metadata": {},
   "outputs": [],
   "source": [
    "H,W = test_img.shape[:2]\n",
    "H,W\n",
    "counted = np.zeros_like(test_img)\n",
    "cnt = 0"
   ]
  },
  {
   "cell_type": "markdown",
   "metadata": {},
   "source": [
    "# 함수 생성"
   ]
  },
  {
   "cell_type": "code",
   "execution_count": 30,
   "metadata": {},
   "outputs": [],
   "source": [
    "def cnt_obj(image):\n",
    "    H, W = image.shape[:2]\n",
    "    counted = np.zeros_like(image)\n",
    "    cnt = 0\n",
    "    pixels_to_check = []\n",
    "\n",
    "    for h in range(H):\n",
    "        for w in range(W):\n",
    "            pixel = image[h, w]\n",
    "            if pixel == 255:  # 픽셀이 obj이면\n",
    "                if counted[h, w] > 0:\n",
    "                    continue\n",
    "                else:\n",
    "                    pixels_to_check.append([h, w])\n",
    "                    while pixels_to_check:\n",
    "                        obj_h, obj_w = pixels_to_check.pop(0)\n",
    "                        \n",
    "                        if counted[obj_h, obj_w] > 0:\n",
    "                            continue\n",
    "                        counted[obj_h, obj_w] = 1\n",
    "                        for i in range(-1, 2):\n",
    "                            for j in range(-1, 2):\n",
    "                                try:\n",
    "                                    neighbor_pixel = image[obj_h + i, obj_w + j]\n",
    "                                except IndexError:\n",
    "                                    continue\n",
    "                                if counted[obj_h + i, obj_w + j] > 0:\n",
    "                                    continue\n",
    "                                if neighbor_pixel == 0:\n",
    "                                    continue\n",
    "                                pixels_to_check.append([obj_h + i, obj_w + j])\n",
    "                    cnt += 1\n",
    "\n",
    "    print(\"Number of objects:\", cnt)\n",
    "    print(\"Counted matrix:\")\n",
    "    print(counted)\n"
   ]
  },
  {
   "cell_type": "markdown",
   "metadata": {},
   "source": [
    "# 함수로 만든 코드"
   ]
  },
  {
   "cell_type": "code",
   "execution_count": 28,
   "metadata": {},
   "outputs": [],
   "source": [
    "import numpy as np\n",
    "\n",
    "def count_objects(image, background_color):\n",
    "    H, W = image.shape[:2]\n",
    "    counted = np.zeros_like(image)\n",
    "    cnt = 0\n",
    "    stack = []\n",
    "\n",
    "    def is_background(pixel):\n",
    "        return pixel == background_color\n",
    "\n",
    "    def is_out_of_bound(h, w):\n",
    "        return h < 0 or h >= H or w < 0 or w >= W\n",
    "\n",
    "    for h in range(H):\n",
    "        for w in range(W):\n",
    "            pixel = image[h, w]\n",
    "            if is_background(pixel):\n",
    "                continue\n",
    "            if counted[h, w] > 0:\n",
    "                continue\n",
    "            \n",
    "            stack.append((h, w))\n",
    "            while stack:\n",
    "                curr_h, curr_w = stack.pop()\n",
    "                if counted[curr_h, curr_w] > 0:\n",
    "                    continue\n",
    "                counted[curr_h, curr_w] = 1\n",
    "                neighbors = [(curr_h + dh, curr_w + dw) for dh in range(-1, 2) for dw in range(-1, 2)]\n",
    "                for nh, nw in neighbors:\n",
    "                    if is_out_of_bound(nh, nw):\n",
    "                        continue\n",
    "                    if counted[nh, nw] > 0:\n",
    "                        continue\n",
    "                    if is_background(image[nh, nw]):\n",
    "                        continue\n",
    "                    stack.append((nh, nw))\n",
    "            cnt += 1\n",
    "    \n",
    "    print(\"Number of objects:\", cnt)\n",
    "    print(\"Counted matrix:\")\n",
    "    print(counted)"
   ]
  },
  {
   "cell_type": "markdown",
   "metadata": {},
   "source": [
    "# 테스트 이미지 실행 결과"
   ]
  },
  {
   "cell_type": "code",
   "execution_count": 33,
   "metadata": {},
   "outputs": [
    {
     "name": "stdout",
     "output_type": "stream",
     "text": [
      "Number of objects: 3\n",
      "Counted matrix:\n",
      "[[0 0 0 0 0]\n",
      " [0 1 0 0 1]\n",
      " [0 1 0 0 0]\n",
      " [0 1 0 1 0]\n",
      " [0 0 0 0 0]]\n"
     ]
    }
   ],
   "source": [
    "test_img = np.zeros((5, 5), dtype=np.uint8)\n",
    "test_img[1:4, 1] = 255\n",
    "test_img[3, 3] = 255\n",
    "test_img[1, 4] = 255\n",
    "\n",
    "background_color = 0  # 배경이 0일때 검정일때\n",
    "count_objects(test_img, background_color)"
   ]
  },
  {
   "cell_type": "code",
   "execution_count": 34,
   "metadata": {},
   "outputs": [
    {
     "name": "stdout",
     "output_type": "stream",
     "text": [
      "Number of objects: 3\n",
      "Counted matrix:\n",
      "[[0 0 0 0 0]\n",
      " [0 1 1 0 1]\n",
      " [0 0 0 0 0]\n",
      " [0 0 1 1 0]\n",
      " [0 0 1 1 0]]\n"
     ]
    }
   ],
   "source": [
    "import numpy as np\n",
    "import matplotlib.pyplot as plt\n",
    "\n",
    "\n",
    "image = np.zeros((5,5), dtype = 'uint8')\n",
    "\n",
    "image[1,1:3] = 255\n",
    "image[1, 4] = 255\n",
    "image[3:5, 2:4] = 255\n",
    "\n",
    "\n",
    "background_color = 0  # 배경이 0일때 검정일때\n",
    "count_objects(image, background_color)"
   ]
  },
  {
   "cell_type": "markdown",
   "metadata": {},
   "source": [
    "# 실제 이미지 실행 결과"
   ]
  },
  {
   "cell_type": "code",
   "execution_count": 32,
   "metadata": {},
   "outputs": [
    {
     "name": "stdout",
     "output_type": "stream",
     "text": [
      "Number of objects: 460\n",
      "Counted matrix:\n",
      "[[0 0 0 ... 0 0 0]\n",
      " [0 0 0 ... 0 0 0]\n",
      " [0 0 0 ... 0 0 0]\n",
      " ...\n",
      " [0 0 0 ... 0 0 0]\n",
      " [0 0 0 ... 0 0 0]\n",
      " [0 0 0 ... 0 0 0]]\n"
     ]
    }
   ],
   "source": [
    "import cv2 \n",
    "import matplotlib.pyplot as plt\n",
    "import numpy as np\n",
    "\n",
    "src= cv2.imread(\"mosquito.png\",0)\n",
    "h,w = src.shape\n",
    "T = 100\n",
    "dst = np.where(src >= T, 0,255) # 임계값보다 큰 경우를 0으로 작은 경우를 255로\n",
    "\n",
    "dst= dst.astype(np.uint8)\n",
    "background_color = 0  # 배경이 0일때 검정일때\n",
    "count_objects(dst, background_color)"
   ]
  },
  {
   "cell_type": "markdown",
   "metadata": {},
   "source": [
    "# 내가 만든 함수 실행"
   ]
  },
  {
   "cell_type": "code",
   "execution_count": 31,
   "metadata": {},
   "outputs": [
    {
     "name": "stdout",
     "output_type": "stream",
     "text": [
      "Number of objects: 460\n",
      "Counted matrix:\n",
      "[[0 0 0 ... 0 0 0]\n",
      " [0 0 0 ... 0 0 0]\n",
      " [0 0 0 ... 0 0 0]\n",
      " ...\n",
      " [0 0 0 ... 0 0 0]\n",
      " [0 0 0 ... 0 0 0]\n",
      " [0 0 0 ... 0 0 0]]\n"
     ]
    }
   ],
   "source": [
    "import cv2 \n",
    "import matplotlib.pyplot as plt\n",
    "import numpy as np\n",
    "\n",
    "src= cv2.imread(\"mosquito.png\",0)\n",
    "h,w = src.shape\n",
    "T = 100\n",
    "dst = np.where(src >= T, 0,255) # 임계값보다 큰 경우를 0으로 작은 경우를 255로\n",
    "\n",
    "dst= dst.astype(np.uint8)\n",
    "background_color = 0  # 배경이 0일때 검정일때\n",
    "cnt_obj(dst)"
   ]
  }
 ],
 "metadata": {
  "kernelspec": {
   "display_name": "Python 3",
   "language": "python",
   "name": "python3"
  },
  "language_info": {
   "codemirror_mode": {
    "name": "ipython",
    "version": 3
   },
   "file_extension": ".py",
   "mimetype": "text/x-python",
   "name": "python",
   "nbconvert_exporter": "python",
   "pygments_lexer": "ipython3",
   "version": "3.10.0"
  }
 },
 "nbformat": 4,
 "nbformat_minor": 2
}
