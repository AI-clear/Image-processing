{
 "cells": [
  {
   "cell_type": "markdown",
   "metadata": {},
   "source": [
    "## 읽기 옵션"
   ]
  },
  {
   "cell_type": "code",
   "execution_count": 7,
   "metadata": {},
   "outputs": [],
   "source": [
    "import cv2\n",
    "\n",
    "src = cv2.imread('img.png', cv2.IMREAD_COLOR) #컬러 이미지, 투명 영역을 무시\n",
    "src = cv2.imread('img.png', cv2.IMREAD_GRAYSCALE) # 흑백 이미지\n",
    "src = cv2.imread('img.png', cv2.IMREAD_UNCHANGED) # 투명 영역까지 포함\n",
    "cv2.imshow('Image', src)\n",
    "cv2.waitKey(0)\n",
    "cv2.destroyAllWindows()"
   ]
  },
  {
   "cell_type": "markdown",
   "metadata": {},
   "source": [
    "# 2.동영상출력"
   ]
  },
  {
   "cell_type": "markdown",
   "metadata": {},
   "source": [
    "### 동영상 파일 출력"
   ]
  },
  {
   "cell_type": "code",
   "execution_count": 2,
   "metadata": {},
   "outputs": [
    {
     "name": "stdout",
     "output_type": "stream",
     "text": [
      "사용자 입력에 의해 종료합니다\n"
     ]
    }
   ],
   "source": [
    "import cv2\n",
    "cap = cv2.VideoCapture('video.mp4')\n",
    "\n",
    "while cap.isOpened(): #동영상 파일이 올바로 열렸는지?\n",
    "    ret, frame = cap.read() #ret : 성공여부, frame: 받아온 프레임\n",
    "    if not ret:\n",
    "        print('더 이상 가져올 프레임이 없어요')\n",
    "        break\n",
    "    cv2.imshow('video', frame)\n",
    "\n",
    "    if cv2.waitKey(25) == ord('q'):\n",
    "        print('사용자 입력에 의해 종료합니다')\n",
    "        break\n",
    "\n",
    "cap.release() # 자원 해제\n",
    "cv2.destroyAllWindows()"
   ]
  },
  {
   "cell_type": "markdown",
   "metadata": {},
   "source": [
    "### 카메라 출력"
   ]
  },
  {
   "cell_type": "code",
   "execution_count": 1,
   "metadata": {},
   "outputs": [],
   "source": [
    "import cv2\n",
    "cap = cv2.VideoCapture(0) # 0번째 카메라 장치\n",
    "\n",
    "if not cap.isOpened(): # 카메라가 잘 열리지 않는 경우\n",
    "    exit() # 프로그램 종료\n",
    "\n",
    "while True:\n",
    "    ret, frame = cap.read()\n",
    "    if not ret:\n",
    "        break\n",
    "\n",
    "    cv2.imshow('camera',frame)\n",
    "\n",
    "    if cv2.waitKey(1) == ord('q'):\n",
    "        break\n",
    "\n",
    "cap.release()\n",
    "cv2.destroyAllWindows()"
   ]
  },
  {
   "cell_type": "markdown",
   "metadata": {},
   "source": [
    "# 4.텍스트"
   ]
  },
  {
   "cell_type": "markdown",
   "metadata": {},
   "source": [
    "### opencv 글꼴"
   ]
  },
  {
   "cell_type": "code",
   "execution_count": 3,
   "metadata": {},
   "outputs": [],
   "source": [
    "import numpy as np\n",
    "import cv2\n",
    "\n",
    "img = np.zeros((480, 640, 3), dtype = np.uint8)\n",
    "\n",
    "SCALE = 2 # 크기\n",
    "COLOR = (255, 255, 255) # 흰색\n",
    "THICKNESS = 1 # 두께\n",
    "\n",
    "cv2.putText(img, \"Nado Simplex\", (20, 50), cv2.FONT_HERSHEY_SIMPLEX, SCALE, COLOR, THICKNESS) # 보통 크기의 산 세리프 글꼴\n",
    "# 그릴 위치, 텍스트 내용, 시작 위치, 폰트 종류, 크기, 색깔 , 두께\n",
    "cv2.putText(img, \"Nado Plain\", (20, 150), cv2.FONT_HERSHEY_PLAIN, SCALE, COLOR, THICKNESS) # 작은 크기의 산 세리프 글꼴\n",
    "cv2.putText(img, \"Nado Script Simplex\", (20, 250), cv2.FONT_HERSHEY_SCRIPT_SIMPLEX, SCALE, COLOR, THICKNESS) #필기체 스타일 글꼴\n",
    "cv2.putText(img, \"Nado Triplex\", (20, 350), cv2.FONT_HERSHEY_TRIPLEX, SCALE, COLOR, THICKNESS) # 보통 크기의 세리프 글꼴\n",
    "cv2.putText(img, \"Nado ltalic\", (20, 450), cv2.FONT_HERSHEY_TRIPLEX | cv2.FONT_ITALIC, SCALE, COLOR, THICKNESS) # 기울임(이탤릭체)\n",
    "\n",
    "cv2.imshow('img',img)\n",
    "cv2.waitKey(0)\n",
    "cv2.destroyAllWindows()\n"
   ]
  },
  {
   "cell_type": "markdown",
   "metadata": {},
   "source": [
    "### 한글 우회 방법"
   ]
  },
  {
   "cell_type": "code",
   "execution_count": 6,
   "metadata": {},
   "outputs": [],
   "source": [
    "import numpy as np\n",
    "import cv2\n",
    "#PIL (Python Image Library)\n",
    "from PIL import ImageFont, ImageDraw, Image\n",
    "\n",
    "def myPutText(src, text, pos, font_size, font_color):\n",
    "    img_pil = Image.fromarray(src)\n",
    "    draw = ImageDraw.Draw(img_pil)\n",
    "    font = ImageFont.truetype('fonts/gulim.ttc',font_size)\n",
    "    draw.text(pos, text, font= font, fill=font_color)\n",
    "    return np.array(img_pil)\n",
    "\n",
    "img = np.zeros((480, 640, 3), dtype = np.uint8)\n",
    "\n",
    "FONT_SIZE = 30\n",
    "COLOR = (255, 255, 255) # 흰색\n",
    "\n",
    "\n",
    "#cv2.putText(img, \"나도코딩\", (20, 50), cv2.FONT_HERSHEY_SIMPLEX, SCALE, COLOR, THICKNESS) # 보통 크기의 산 세리프 글꼴\n",
    "\n",
    "img = myPutText(img,\"나도코딩\",(20,50),FONT_SIZE, COLOR)\n",
    "\n",
    "cv2.imshow('img',img)\n",
    "cv2.waitKey(0)\n",
    "cv2.destroyAllWindows()"
   ]
  },
  {
   "cell_type": "markdown",
   "metadata": {},
   "source": [
    "### 동영상 저장"
   ]
  },
  {
   "cell_type": "code",
   "execution_count": 10,
   "metadata": {},
   "outputs": [],
   "source": [
    "import cv2\n",
    "cap = cv2.VideoCapture('video.mp4')\n",
    "\n",
    "# 코덱 정의\n",
    "fourcc = cv2.VideoWriter_fourcc(*'DIVX')\n",
    "\n",
    "# 프레임 크기, FPS\n",
    "width = round(cap.get(cv2.CAP_PROP_FRAME_WIDTH))\n",
    "height = round(cap.get(cv2.CAP_PROP_FRAME_HEIGHT))\n",
    "fps = cap.get(cv2.CAP_PROP_FPS) # 영상 재생 속도가 2배\n",
    "\n",
    "out = cv2.VideoWriter('output.avi', fourcc, fps, (width, height))\n",
    "# 저장 파일명, 코덱, FPS, 크기 (width, height)\n",
    "\n",
    "while cap.isOpened():\n",
    "    ret, frame = cap.read()\n",
    "\n",
    "    if not ret:\n",
    "        break\n",
    "\n",
    "    out.write(frame) # 영상 데이터만 저장 (소리는 X)\n",
    "    cv2.imshow('video', frame)\n",
    "    if cv2.waitKey(1) == ord('q'):\n",
    "        break\n",
    "\n",
    "out.release() # 자원 해제\n",
    "cap.release()\n",
    "cv2.destroyAllWindows()"
   ]
  }
 ],
 "metadata": {
  "kernelspec": {
   "display_name": "Python 3",
   "language": "python",
   "name": "python3"
  },
  "language_info": {
   "codemirror_mode": {
    "name": "ipython",
    "version": 3
   },
   "file_extension": ".py",
   "mimetype": "text/x-python",
   "name": "python",
   "nbconvert_exporter": "python",
   "pygments_lexer": "ipython3",
   "version": "3.10.0"
  }
 },
 "nbformat": 4,
 "nbformat_minor": 2
}
