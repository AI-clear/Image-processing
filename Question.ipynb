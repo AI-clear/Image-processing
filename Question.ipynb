{
 "cells": [
  {
   "cell_type": "code",
   "execution_count": 2,
   "metadata": {},
   "outputs": [
    {
     "name": "stdout",
     "output_type": "stream",
     "text": [
      "2.9372339821610947e+25\n"
     ]
    }
   ],
   "source": [
    "import math\n",
    "sol=math.factorial(100) / (math.factorial(30) * math.factorial(70))\n",
    "print(sol)"
   ]
  },
  {
   "cell_type": "code",
   "execution_count": null,
   "metadata": {},
   "outputs": [],
   "source": [
    "for k in range(71,101)\n",
    "    numerator = k * (k+1)"
   ]
  },
  {
   "cell_type": "code",
   "execution_count": 3,
   "metadata": {},
   "outputs": [
    {
     "name": "stdout",
     "output_type": "stream",
     "text": [
      "9.569697812847437e+33\n"
     ]
    }
   ],
   "source": [
    "# 101/31\n",
    "sol=2937233982161094482160944823963760*101/31\n",
    "print(sol)"
   ]
  },
  {
   "cell_type": "code",
   "execution_count": 4,
   "metadata": {},
   "outputs": [
    {
     "name": "stdout",
     "output_type": "stream",
     "text": [
      "2.093371396560377e+27\n"
     ]
    }
   ],
   "source": [
    "#101/32\n",
    "sol=663246383068634237906047200*101/32\n",
    "print(sol)"
   ]
  },
  {
   "cell_type": "code",
   "execution_count": null,
   "metadata": {},
   "outputs": [],
   "source": [
    "def memoize(f):\n",
    "    memo = {}\n",
    "    def helper(x,y):\n",
    "        if (x,y) not in memo:\n",
    "            memo[x,y] = f(x,y)\n",
    "        return memo[x,y]\n",
    "    return helper\n",
    "\n",
    "def binom2(n,k):\n",
    "    if n < 0 or k < 0: return 0\n",
    "    if n<k: return 0\n",
    "    if k==0: return 1\n",
    "    if k==n: return 1\n",
    "    return binom2(n-1,k)+binom2(n-1,k-1)\n",
    "\n",
    "binom2 = memoize(binom2)"
   ]
  },
  {
   "cell_type": "code",
   "execution_count": null,
   "metadata": {},
   "outputs": [],
   "source": [
    "def binom3(n,k):\n",
    "    memo = {}\n",
    "    if n<0 or k<0: return 0\n",
    "    if n<k: return 0\n",
    "    #bounderies first\n",
    "    for i in range(0,n+1):\n",
    "        memo[i,i]=1\n",
    "        memo[i,0]=1\n",
    "    #interior\n",
    "    for i in range(2,n+1):\n",
    "        for j in range(1,i):\n",
    "            memo[i,j] = memo[i-1,j]+memo[i-1,j-1]\n",
    "    return memo[n,k]"
   ]
  }
 ],
 "metadata": {
  "kernelspec": {
   "display_name": "Python 3",
   "language": "python",
   "name": "python3"
  },
  "language_info": {
   "codemirror_mode": {
    "name": "ipython",
    "version": 3
   },
   "file_extension": ".py",
   "mimetype": "text/x-python",
   "name": "python",
   "nbconvert_exporter": "python",
   "pygments_lexer": "ipython3",
   "version": "3.10.0"
  }
 },
 "nbformat": 4,
 "nbformat_minor": 2
}
