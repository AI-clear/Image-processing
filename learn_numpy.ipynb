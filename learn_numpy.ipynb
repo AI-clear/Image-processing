{
 "cells": [
  {
   "cell_type": "markdown",
   "metadata": {},
   "source": [
    "- np.zeros(): 모든 원소가 0인 배열을 생성합니다.\n",
    "- np.ones(): 모든 원소가 1인 배열을 생성합니다.\n",
    "- np.arange(): 범위 내의 일정 간격을 가진 배열을 생성합니다.\n",
    "- np.linspace(): 범위 내에서 균등 간격으로 원하는 개수의 배열을 생성합니다.\n",
    "- np.random.random(): 0부터 1사이의 난수를 가지는 배열을 생성합니다.\n",
    "- np.random.randn(): 평균이 0이고 표준편차가 1인 정규 분포를 따르는 난수를 가지는 배열을 생성합니다."
   ]
  },
  {
   "cell_type": "markdown",
   "metadata": {},
   "source": [
    "- sum(), mean() : 배열 전체 합, 평균\n",
    "- cumsum(), cumprod() : 배열 누적 합, 누적 곱\n",
    "- std(), var() : 표준편차, 분산\n",
    "- min(), max() : 최소값, 최대값\n",
    "- argmin(), argmax(): 최소 원소의 색인 값, 최대 원소의 색인 값"
   ]
  },
  {
   "cell_type": "markdown",
   "metadata": {},
   "source": [
    "- seed() : 난수 발생기의 seed를 지정한다.\n",
    "- permutation() : 임의의 순열을 반환한다.\n",
    "- shuffle() : 리스트나 배열의 순서를 뒤섞는다.\n",
    "- rand() : 균등분포에서 표본을 추출한다.\n",
    "- randint() : 주어진 최소/최대 범위 안에서 임의의 난수를 추출한다.\n",
    "- randn() : 표준편차가 1이고 평균값이 0인 정규분포에서 표본을 추출한다.\n",
    "- binomial() : 이항분포에서 표본을 추출한다.\n",
    "- normal() : 정규분포(가우시안)에서 표본을 추출한다.\n",
    "- beta() : 베타분포에서 표본을 추출한다.\n",
    "- chisquare() : 카이제곱분포에서 표본을 추출한다.\n",
    "- gamma() : 감마분포에서 표본을 추출한다.\n",
    "- uniform() : 균등(0,1)에서 표본을 추출한다."
   ]
  }
 ],
 "metadata": {
  "language_info": {
   "name": "python"
  }
 },
 "nbformat": 4,
 "nbformat_minor": 2
}
