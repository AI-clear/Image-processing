{
 "cells": [
  {
   "cell_type": "markdown",
   "metadata": {},
   "source": [
    "https://blog.naver.com/PostView.naver?blogId=zzing0907&logNo=221612308385"
   ]
  },
  {
   "cell_type": "code",
   "execution_count": 5,
   "metadata": {},
   "outputs": [],
   "source": [
    "import cv2\n",
    "import dlib\n",
    "import time\n",
    "\n",
    "# Load the detectors and predictors\n",
    "detector = dlib.get_frontal_face_detector()\n",
    "predictor = dlib.shape_predictor(\"./models/shape_predictor_68_face_landmarks.dat\")\n",
    "\n",
    "def detect_face_68(frame_bgr):\n",
    "    gray = cv2.cvtColor(frame_bgr, cv2.COLOR_BGR2GRAY)\n",
    "    rects = detector(gray, 1)\n",
    "    for (i, rect) in enumerate(rects):\n",
    "        x1 = rect.left()\n",
    "        y1 = rect.top()\n",
    "        x2 = rect.right()\n",
    "        y2 = rect.bottom()\n",
    "        cv2.rectangle(frame_bgr, (x1, y1), (x2, y2), (0,255,0), 2)\n",
    "\n",
    "        # Get the landmarks/parts for the face in box rect.\n",
    "        shape = predictor(gray, rect)\n",
    "\n",
    "        # Draw the face landmarks on the screen.\n",
    "        for i in range(0, shape.num_parts):\n",
    "            part = shape.part(i)\n",
    "            cv2.circle(frame_bgr, (part.x, part.y), 2, (0, 0, 255), -1)\n",
    "\n",
    "    return frame_bgr"
   ]
  },
  {
   "cell_type": "markdown",
   "metadata": {},
   "source": [
    "# video"
   ]
  },
  {
   "cell_type": "code",
   "execution_count": 6,
   "metadata": {},
   "outputs": [
    {
     "name": "stdout",
     "output_type": "stream",
     "text": [
      "FPS = 8.9                    "
     ]
    }
   ],
   "source": [
    "video_capture = cv2.VideoCapture(0)\n",
    "s_time = time.time()\n",
    "cnt = 0\n",
    "\n",
    "while True:\n",
    "    cnt += 1\n",
    "    ret, frame_bgr = video_capture.read()\n",
    "    frame_bgr = detect_face_68(frame_bgr)\n",
    "    \n",
    "    cv2.imshow('Video', frame_bgr)\n",
    "    if cv2.waitKey(1)==27:  # 27 == Esc\n",
    "        break\n",
    "    \n",
    "    if time.time() - s_time > 0.1:\n",
    "        print(f\"\\rFPS = {cnt / (time.time() - s_time):.1f}\" + ' ' * 20, end = '')\n",
    "        s_time = time.time()\n",
    "        cnt = 0\n",
    "\n",
    "video_capture.release()\n",
    "cv2.destroyAllWindows()"
   ]
  },
  {
   "cell_type": "markdown",
   "metadata": {},
   "source": [
    "You only Look Once (YOLO)\n",
    "- opencv YOLO 3 320x320, 609x609, 416x416\n",
    "https://opencv-tutorial.readthedocs.io/en/latest/yolo/yolo.html \n",
    "- YOLO 8"
   ]
  },
  {
   "cell_type": "code",
   "execution_count": null,
   "metadata": {},
   "outputs": [],
   "source": [
    "yolo path \n",
    "\n"
   ]
  },
  {
   "cell_type": "markdown",
   "metadata": {},
   "source": [
    "14 X 14, 28 x 28, 56 x 56\n",
    "each cell in the frature map has 3 boxes and each scale has the boxes of 588, 2352, 9408\n",
    "- 588= 14 x 14 x 3\n",
    "- 2352 = 28 x 28 x 3\n",
    "- 9408 = 56 x 56 x 3\n",
    "\n",
    "80개의 객체, 박스 의 중심x,중심y,w,h, 객체일 확률\n",
    "\n",
    "Non-Maximum suppression (NMS) is used to find one box from many overlapping boxes\n",
    "\n",
    "B= 박스들 ,S = 임계치 이하의 박스들을 제거후에 남은 박스들\n",
    "F - () 살릴놈들\n",
    "m - 제일점수가 높은놈 한놈 고름\n",
    "그 박스의 점수와 임계치 값을 고른후 둘중에 큰 값을 고름\n",
    "나온 값을 살릴놈들에 집어 넣음\n",
    "B- m 을 뺀다\n",
    "남아 있는 S들 중에서 IoU를 계산하여 많이 높으면 지운다. 지운거는 F에 안 넣는다.(0~1) = Area of intersection / Area of Union(점수가 높을 수록 많이 겹친다.) IoU를 계산하여 낮은것을 살린다.\n",
    "\n",
    "cv2.dnn.NMSBoxes(bboxes, scores, score_threshold, nms_threshold)\n"
   ]
  },
  {
   "cell_type": "code",
   "execution_count": null,
   "metadata": {},
   "outputs": [],
   "source": [
    "# cv2.dnn.NMSBoxes(bboxes, scores, score_threshold, nms_threshold)\n",
    "\n",
    "box = "
   ]
  },
  {
   "cell_type": "markdown",
   "metadata": {},
   "source": [
    "# Yolo8\n",
    "- https://developer-lionhong.tistory.com/62"
   ]
  },
  {
   "cell_type": "code",
   "execution_count": 3,
   "metadata": {},
   "outputs": [
    {
     "name": "stdout",
     "output_type": "stream",
     "text": [
      "False\n"
     ]
    }
   ],
   "source": [
    "print(torch.cuda.is_available())"
   ]
  },
  {
   "cell_type": "code",
   "execution_count": null,
   "metadata": {},
   "outputs": [],
   "source": [
    "from ultralytics import YOLO\n",
    "# import torch\n",
    "\n",
    "yolo8_model = YOLO('./models/yolov8m.pt')\n",
    "yolo8_model.to('cuda')"
   ]
  },
  {
   "cell_type": "code",
   "execution_count": null,
   "metadata": {},
   "outputs": [],
   "source": [
    "import cv2\n",
    "import time\n",
    "import numpy as np\n",
    "from ultralytics import YOLO\n",
    "import torch\n",
    "\n",
    "# Initialize video capture\n",
    "video_capture = cv2.VideoCapture(\"humans.mp4\")\n",
    "\n",
    "# YOLO model and parameters\n",
    "conf_score_th = 0.5\n",
    "iou_th = 0.4\n",
    "# Assume yolo8_model is initialized elsewhere in your code\n",
    "\n",
    "# Initialize counters and timing\n",
    "frame_cnt = 0\n",
    "s_time = time.time()\n",
    "fps = 0\n",
    "cnt = 0\n",
    "\n",
    "while True:\n",
    "    ret, frame_bgr = video_capture.read()\n",
    "    if not ret:\n",
    "        break\n",
    "    \n",
    "    # Perform object detection\n",
    "    detection = yolo8_model.predict(frame_bgr, iou=iou_th, conf=conf_score_th, verbose=False)[0]\n",
    "    frame_bgr = detection.plot()\n",
    "    \n",
    "    # Display the frame\n",
    "    cv2.imshow('Video', frame_bgr)\n",
    "    \n",
    "    # FPS calculation\n",
    "    cnt += 1\n",
    "    if time.time() - s_time > 0.1:\n",
    "        print(f\"\\rFPS = {cnt / (time.time() - s_time):.1f}\" + ' ' * 20, end = '')\n",
    "        s_time = time.time()\n",
    "        cnt = 0\n",
    "    \n",
    "    # Break the loop if 'Esc' key is pressed\n",
    "    if cv2.waitKey(1) == 27:  # 27 is the ASCII code for the 'Esc' key\n",
    "        break\n",
    "\n",
    "# Release the video capture object and close display windows\n",
    "video_capture.release()\n",
    "cv2.destroyAllWindows()\n"
   ]
  }
 ],
 "metadata": {
  "kernelspec": {
   "display_name": "Python 3",
   "language": "python",
   "name": "python3"
  },
  "language_info": {
   "codemirror_mode": {
    "name": "ipython",
    "version": 3
   },
   "file_extension": ".py",
   "mimetype": "text/x-python",
   "name": "python",
   "nbconvert_exporter": "python",
   "pygments_lexer": "ipython3",
   "version": "3.10.0"
  }
 },
 "nbformat": 4,
 "nbformat_minor": 2
}
